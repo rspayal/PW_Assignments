{
  "nbformat": 4,
  "nbformat_minor": 0,
  "metadata": {
    "colab": {
      "provenance": []
    },
    "kernelspec": {
      "name": "python3",
      "display_name": "Python 3"
    },
    "language_info": {
      "name": "python"
    }
  },
  "cells": [
    {
      "cell_type": "markdown",
      "source": [
        "**Q1. Create one variable containing following type of data:**\n",
        "\n",
        "**(i)\tstring**\n",
        "\n",
        "**(ii)\tlist**\n",
        "\n",
        "**(iii)\tfloat**\n",
        "\n",
        "**(iv)\ttuple**"
      ],
      "metadata": {
        "id": "sF_GTxEWGcD1"
      }
    },
    {
      "cell_type": "markdown",
      "source": [
        "**Answer:**"
      ],
      "metadata": {
        "id": "fOWjWiOWGhI6"
      }
    },
    {
      "cell_type": "code",
      "source": [
        "str = \"Payal\"\n",
        "l= [1, 9, 7, 'abc']\n",
        "f= 9.5\n",
        "t = ( 1, 9, 7, 'abc')\n",
        "print(type(str))\n",
        "print(type(l))\n",
        "print(type(f))\n",
        "print(type(t))"
      ],
      "metadata": {
        "colab": {
          "base_uri": "https://localhost:8080/"
        },
        "id": "Nkxy8pgUFQOz",
        "outputId": "1d62ad4e-b790-4af8-8f82-3708286c1523"
      },
      "execution_count": 5,
      "outputs": [
        {
          "output_type": "stream",
          "name": "stdout",
          "text": [
            "<class 'str'>\n",
            "<class 'list'>\n",
            "<class 'float'>\n",
            "<class 'tuple'>\n"
          ]
        }
      ]
    },
    {
      "cell_type": "markdown",
      "source": [
        "**Q2. Given are some following variables containing data:**\n",
        "\n",
        "**(i)\tvar1 = ‘ ‘**\n",
        "\n",
        "**(ii)\tvar2 = ‘[ DS , ML , Python]’**\n",
        "\n",
        "**(iii)\tvar3 = [ ‘DS’ , ’ML’ , ‘Python’ ]**\n",
        "\n",
        "**(iv)\tvar4 = 1.**\n",
        "\n",
        "\n",
        "**What will be the data type of the above given variable**"
      ],
      "metadata": {
        "id": "2eW_c2BwGRiB"
      }
    },
    {
      "cell_type": "markdown",
      "source": [
        "**Answer:**"
      ],
      "metadata": {
        "id": "oQlMpRmsHKR0"
      }
    },
    {
      "cell_type": "code",
      "source": [
        "var1 = ''\n",
        "var2 = '[ DS , ML , Python]'\n",
        "var3 = [ 'DS' , 'ML' , 'Python' ]\n",
        "var4 = 1\n",
        "print(type(var1))\n",
        "print(type(var2))\n",
        "print(type(var3))\n",
        "print(type(var4))"
      ],
      "metadata": {
        "colab": {
          "base_uri": "https://localhost:8080/"
        },
        "id": "2lAjyMdoGv3y",
        "outputId": "1ca13081-9eab-4db6-9e64-1336cce0202d"
      },
      "execution_count": 7,
      "outputs": [
        {
          "output_type": "stream",
          "name": "stdout",
          "text": [
            "<class 'str'>\n",
            "<class 'str'>\n",
            "<class 'list'>\n",
            "<class 'int'>\n"
          ]
        }
      ]
    },
    {
      "cell_type": "markdown",
      "source": [
        "**Q3. Explain the use of the following operators using an example:**\n",
        "\n",
        "(i)\t/\n",
        "(ii)\t%\n",
        "(iii)\t//\n",
        "(iv)\t**"
      ],
      "metadata": {
        "id": "T_dMFz0kHg5i"
      }
    },
    {
      "cell_type": "markdown",
      "source": [
        "**Answer**\n",
        "/ = It returns the quotient after dividing the first operand by the second operand  \n",
        "\n",
        "% = It returns the reminder after dividing the first operand by the second operand.\n",
        "\n",
        "// = if any of the numbers is float, it returns output in float. It is also known as Floor division because, if any number is negative, then the output will be floored.\n",
        "\n",
        "** = it calculates the first operand's power to the second operand, it is an exponent operator."
      ],
      "metadata": {
        "id": "WMtdJAbUH8Ey"
      }
    },
    {
      "cell_type": "code",
      "source": [
        "a=98\n",
        "b=4\n",
        "print(a/b)\n",
        "print(a%b)\n",
        "print(a//b)\n",
        "print(a**b)\n"
      ],
      "metadata": {
        "colab": {
          "base_uri": "https://localhost:8080/"
        },
        "id": "5Vcv4u7GILIq",
        "outputId": "8a57f44d-cc53-49d0-bd60-41e05acd8b0e"
      },
      "execution_count": 9,
      "outputs": [
        {
          "output_type": "stream",
          "name": "stdout",
          "text": [
            "24.5\n",
            "2\n",
            "24\n",
            "92236816\n"
          ]
        }
      ]
    },
    {
      "cell_type": "markdown",
      "source": [
        "**Q4.Create a list of length 10 of your choice containing multiple types of data. Using for loop print the  element and its data type**"
      ],
      "metadata": {
        "id": "w8ab2cvvIL9T"
      }
    },
    {
      "cell_type": "code",
      "source": [
        "l= [0,7,0.1, 67.9, \"apple\", \"pie\", 6**2, 8, \"lol\", 10]\n",
        "for x in range(len(l)):\n",
        "    print (l[x])\n",
        "    print(type(l[x]))"
      ],
      "metadata": {
        "colab": {
          "base_uri": "https://localhost:8080/"
        },
        "id": "yK5rSP4oIaG5",
        "outputId": "cf83c737-4fc4-4012-c90c-22f6540d66b3"
      },
      "execution_count": 21,
      "outputs": [
        {
          "output_type": "stream",
          "name": "stdout",
          "text": [
            "0\n",
            "<class 'int'>\n",
            "7\n",
            "<class 'int'>\n",
            "0.1\n",
            "<class 'float'>\n",
            "67.9\n",
            "<class 'float'>\n",
            "apple\n",
            "<class 'str'>\n",
            "pie\n",
            "<class 'str'>\n",
            "36\n",
            "<class 'int'>\n",
            "8\n",
            "<class 'int'>\n",
            "lol\n",
            "<class 'str'>\n",
            "10\n",
            "<class 'int'>\n"
          ]
        }
      ]
    },
    {
      "cell_type": "markdown",
      "source": [
        "**Q5. Using a while loop, verify if the number A is purely divisible by number B and if so then how many times it can be divisible**"
      ],
      "metadata": {
        "id": "1PLdSghfIj_y"
      }
    },
    {
      "cell_type": "code",
      "source": [
        "A = int(input(\"Enter number A: \"))\n",
        "B = int(input(\"Enter number B: \"))\n",
        "\n",
        "count = 0\n",
        "\n",
        "while A % B == 0:\n",
        "  A = A // B\n",
        "  A= A\n",
        "  count += 1\n",
        "\n",
        "if count > 0:\n",
        "  print(f\" It is divisible by {B} and it can be divided {count} times\")\n",
        "else:\n",
        "  print(f\"{A} is not divisible by {B}\")\n"
      ],
      "metadata": {
        "colab": {
          "base_uri": "https://localhost:8080/"
        },
        "id": "hjpkXPsNwXN-",
        "outputId": "707921a3-efaa-4fda-f3bf-db58d899f2bb"
      },
      "execution_count": 44,
      "outputs": [
        {
          "output_type": "stream",
          "name": "stdout",
          "text": [
            "Enter number A: 99990909\n",
            "Enter number B: 3\n",
            " It is divisible by 3 and it can be divided 3 times\n"
          ]
        }
      ]
    },
    {
      "cell_type": "markdown",
      "source": [
        "**Q6. Create a list containing 25 int type data. Using for loop and if-else condition print if the element is divisible by 3 or not.**\n",
        "\n",
        "\n"
      ],
      "metadata": {
        "id": "zqlUEUARIwar"
      }
    },
    {
      "cell_type": "code",
      "source": [
        "integer=[1,2,3,4,5,6,7,8,9,10, 11, 12, 13, 14, 14, 15, 16, 17 , 19 ,30 , 55, 46, 98, 76, 44]\n",
        "for i in integer:\n",
        "  if i % 3 == 0:\n",
        "      print(f\"{i} is divisible by 3.\")\n",
        "  else:\n",
        "      print(f\"{i} is not divisible by 3.\")\n"
      ],
      "metadata": {
        "colab": {
          "base_uri": "https://localhost:8080/"
        },
        "id": "aVFK05yGI00k",
        "outputId": "dc7c6bf7-ce41-48ce-d9e6-d072803a1a78"
      },
      "execution_count": 33,
      "outputs": [
        {
          "output_type": "stream",
          "name": "stdout",
          "text": [
            "1 is not divisible by 3.\n",
            "2 is not divisible by 3.\n",
            "3 is divisible by 3.\n",
            "4 is not divisible by 3.\n",
            "5 is not divisible by 3.\n",
            "6 is divisible by 3.\n",
            "7 is not divisible by 3.\n",
            "8 is not divisible by 3.\n",
            "9 is divisible by 3.\n",
            "10 is not divisible by 3.\n",
            "11 is not divisible by 3.\n",
            "12 is divisible by 3.\n",
            "13 is not divisible by 3.\n",
            "14 is not divisible by 3.\n",
            "14 is not divisible by 3.\n",
            "15 is divisible by 3.\n",
            "16 is not divisible by 3.\n",
            "17 is not divisible by 3.\n",
            "19 is not divisible by 3.\n",
            "30 is divisible by 3.\n",
            "55 is not divisible by 3.\n",
            "46 is not divisible by 3.\n",
            "98 is not divisible by 3.\n",
            "76 is not divisible by 3.\n",
            "44 is not divisible by 3.\n"
          ]
        }
      ]
    },
    {
      "cell_type": "markdown",
      "source": [
        "**Q7. What do you understand about mutable and immutable data types? Give examples for both showing this property.**"
      ],
      "metadata": {
        "id": "V24kAz46I2TZ"
      }
    },
    {
      "cell_type": "markdown",
      "source": [
        " A mutable object can be changed after it's created, and an immutable object can't. Strings and tuples are immutable, while lists, dictionaries, and sets are mutable."
      ],
      "metadata": {
        "id": "BZgAtKE80fdA"
      }
    },
    {
      "cell_type": "code",
      "source": [
        "list = [1, 2, 3]\n",
        "print(list)\n",
        "list[0] = 100\n",
        "print(list)\n",
        "\n",
        "dict = {'a': 1, 'b': 2}\n",
        "dict['a'] = 100\n",
        "dict['c'] = 3\n",
        "print(dict)"
      ],
      "metadata": {
        "colab": {
          "base_uri": "https://localhost:8080/"
        },
        "id": "rSFsKsLk1JgQ",
        "outputId": "735eef13-282f-4784-d621-cd3934206d82"
      },
      "execution_count": 47,
      "outputs": [
        {
          "output_type": "stream",
          "name": "stdout",
          "text": [
            "[1, 2, 3]\n",
            "[100, 2, 3]\n",
            "{'a': 100, 'b': 2, 'c': 3}\n"
          ]
        }
      ]
    },
    {
      "cell_type": "code",
      "source": [
        "tuple = (1, 2, 3)\n",
        "new_tuple = tuple + (4,)\n",
        "print(tuple)\n",
        "print(new_tuple)\n",
        "\n",
        "string = \"Hello\"\n",
        "new_string = string + \" World\"\n",
        "print(string)\n",
        "print(new_string)"
      ],
      "metadata": {
        "colab": {
          "base_uri": "https://localhost:8080/"
        },
        "id": "luo9T2m31TRt",
        "outputId": "460e4371-02f5-4610-c11a-38610fd887a8"
      },
      "execution_count": 50,
      "outputs": [
        {
          "output_type": "stream",
          "name": "stdout",
          "text": [
            "(1, 2, 3)\n",
            "(1, 2, 3, 4)\n",
            "Hello\n",
            "Hello World\n"
          ]
        }
      ]
    }
  ]
}