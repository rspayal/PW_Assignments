{
  "nbformat": 4,
  "nbformat_minor": 0,
  "metadata": {
    "colab": {
      "provenance": []
    },
    "kernelspec": {
      "name": "python3",
      "display_name": "Python 3"
    },
    "language_info": {
      "name": "python"
    }
  },
  "cells": [
    {
      "cell_type": "markdown",
      "source": [
        "**Q1. How do you comment code in Python? What are the different types of comments?**"
      ],
      "metadata": {
        "id": "sF_GTxEWGcD1"
      }
    },
    {
      "cell_type": "markdown",
      "source": [
        "**Answer:** Comments in Python are identified with a hash symbol, #, and extend to the end of the line. Hash characters in a string are not considered comments, however. . Comments are ignored by the Python interpreter and are used to make the code more understandable for other developers or for your future self. Python supports two types of comments:S\n",
        "\n",
        "Single-line comments: Single-line comments are used to add comments on a single line in your code. In Python, single-line comments start with the # character. Everything after the # on the same line is considered a comment and is ignored by the interpreter.\n",
        "\n",
        "Multi-line comments (Docstrings): Multi-line comments, also known as docstrings, are used to write longer comments spanning multiple lines. They are typically used to provide documentation for functions, classes, or modules. In Python, you can create multi-line comments using triple quotes (\"\"\" or ''') at the beginning and end of the comment block.\n"
      ],
      "metadata": {
        "id": "fOWjWiOWGhI6"
      }
    },
    {
      "cell_type": "code",
      "source": [
        "# This is a single-line comment\n",
        "print(\"Hello, World!\")\n",
        "\n",
        "\"\"\"\n",
        "This is a multi-line comment\n",
        "Here you can explain the purpose, usage,\n",
        " and expected inputs/outputs of\n",
        " the function.\n",
        "\"\"\"\n",
        "a=5\n",
        "b=7\n",
        "print(a+b)\n"
      ],
      "metadata": {
        "colab": {
          "base_uri": "https://localhost:8080/"
        },
        "id": "Nkxy8pgUFQOz",
        "outputId": "a6d15f2d-40fd-49ba-ff57-4586840d2ffa"
      },
      "execution_count": 52,
      "outputs": [
        {
          "output_type": "stream",
          "name": "stdout",
          "text": [
            "Hello, World!\n",
            "12\n"
          ]
        }
      ]
    },
    {
      "cell_type": "markdown",
      "source": [
        "**Q2. What are variables in Python? How do you declare and assign values to variables?**"
      ],
      "metadata": {
        "id": "2eW_c2BwGRiB"
      }
    },
    {
      "cell_type": "markdown",
      "source": [
        "**Answer:**\n",
        "Variables are used to store and refer to data values in the memory. They act as placeholders for data and provide a way to access and manipulate that data throughout the program. Variables can store various types of data, such as numbers, strings, lists, dictionaries, and more.\n",
        "\n",
        "To declare and assign values to variables in Python, you simply need to use the assignment operator (=). The basic syntax for declaring a variable and assigning a value to it is as follows:\n",
        "variable_name = value"
      ],
      "metadata": {
        "id": "oQlMpRmsHKR0"
      }
    },
    {
      "cell_type": "code",
      "source": [
        "# example\n",
        "var1 = ''\n",
        "var2 = '[ DS , ML , Python]'\n",
        "var3 = [ 'DS' , 'ML' , 'Python' ]\n",
        "var4 = 1"
      ],
      "metadata": {
        "id": "2lAjyMdoGv3y"
      },
      "execution_count": 53,
      "outputs": []
    },
    {
      "cell_type": "markdown",
      "source": [
        "**Q3. How do you convert one data type to another in Python?**"
      ],
      "metadata": {
        "id": "T_dMFz0kHg5i"
      }
    },
    {
      "cell_type": "markdown",
      "source": [
        "**Answer**\n",
        "we can  convert one data type to another in Python type conversion. Type conversion is the process of converting data of one type to another. For example: converting int data to str.\n",
        "\n",
        "There are two types of type conversion in Python.\n",
        "\n",
        "1. **Implicit Conversion - automatic type conversion**\n",
        "\n",
        "2. **Explicit Conversion - manual type conversion**\n",
        "\n",
        "**Python Implicit Type Conversion** - In certain situations, Python automatically converts one data type to another. This is known as implicit type conversion.Python always converts smaller data types to larger data types to avoid the loss of data.\n",
        "\n",
        "**Explicit Type Conversion** - In Explicit Type Conversion, users convert the data type of an object to required data type.We use the built-in functions like int(), float(), str(), etc to perform explicit type conversion. This type of conversion is also called typecasting because the user casts (changes) the data type of the objects\n"
      ],
      "metadata": {
        "id": "WMtdJAbUH8Ey"
      }
    },
    {
      "cell_type": "code",
      "source": [
        "#Implicit\n",
        "number1 = 123\n",
        "print(\"Data Type:\",type(number1))\n",
        "number2 = 1.23\n",
        "print(\"Data Type:\",type(number2))\n",
        "new_number = number1 + number2\n",
        "print(\"Value:\",new_number)\n",
        "print(\"Data Type:\",type(new_number))\n",
        "\n",
        "#Explicit\n",
        "string = '12'\n",
        "integer = 23\n",
        "print(\"Data type of num_string before Type Casting:\",type(string))\n",
        "string = int(string)\n",
        "print(\"Data type of string after Type Casting:\",type(string))\n",
        "sum = integer + string\n",
        "print(\"Sum:\",sum)\n",
        "print(\"Data type of sum:\",type(sum))"
      ],
      "metadata": {
        "colab": {
          "base_uri": "https://localhost:8080/"
        },
        "id": "5Vcv4u7GILIq",
        "outputId": "fe42b2f1-ad92-4399-b193-b17ad01157c3"
      },
      "execution_count": 6,
      "outputs": [
        {
          "output_type": "stream",
          "name": "stdout",
          "text": [
            "Data Type: <class 'int'>\n",
            "Data Type: <class 'float'>\n",
            "Value: 124.23\n",
            "Data Type: <class 'float'>\n",
            "Data type of num_string before Type Casting: <class 'str'>\n",
            "Data type of string after Type Casting: <class 'int'>\n",
            "Sum: 35\n",
            "Data type of sum: <class 'int'>\n"
          ]
        }
      ]
    },
    {
      "cell_type": "markdown",
      "source": [
        "**Q4. How do you write and execute a Python script from the command line?**"
      ],
      "metadata": {
        "id": "dY5HlsaPdMkd"
      }
    },
    {
      "cell_type": "markdown",
      "source": [
        "**Answer**\n",
        "Writing and executing a Python script from the command line is a straightforward process. Here's a step-by-step guide to do it:\n",
        "\n",
        "Open a text editor (such as Notepad, VSCode, Sublime Text, etc.) and create a\n",
        "\n",
        "1. Open a text editor (such as Notepad, VSCode, Sublime Text, etc.) and create a new file.\n",
        "2. Write your Python code in the file and save it with a .py extension. For example, you can create a file named myscript.py and add your Python code to it.  \n",
        "**Example myscript.py:**\n",
        "python print(\"Hello, World!\")\n",
        "3. Open a command prompt or terminal on your computer.\n",
        "4. Navigate to the directory where you saved your Python script using the cd command (change directory).\n",
        "5. Once you are in the correct directory, you can execute the Python script by typing python followed by the name of your script file.\n",
        "\n",
        "6. For example, to execute myscript.py, you would type: python myscript.py\n",
        "\n",
        "7. Press the Enter key to execute the script. The output of your Python code will be displayed in the command prompt or terminal.\n",
        "\n",
        "\n"
      ],
      "metadata": {
        "id": "w8ab2cvvIL9T"
      }
    },
    {
      "cell_type": "markdown",
      "source": [
        "**Q5. Given a list my_list = [1, 2, 3, 4, 5], write the code to slice the list and obtain the sub-list [2, 3].**"
      ],
      "metadata": {
        "id": "1PLdSghfIj_y"
      }
    },
    {
      "cell_type": "code",
      "source": [
        "my_list = [1, 2, 3, 4, 5]\n",
        "sub_list = my_list[1:3]\n",
        "print(sub_list)"
      ],
      "metadata": {
        "colab": {
          "base_uri": "https://localhost:8080/"
        },
        "id": "xg-woYypAMFE",
        "outputId": "7c0d6ff5-4dcd-4a3b-f445-76bf2a6f2831"
      },
      "execution_count": 1,
      "outputs": [
        {
          "output_type": "stream",
          "name": "stdout",
          "text": [
            "[2, 3]\n"
          ]
        }
      ]
    },
    {
      "cell_type": "markdown",
      "source": [
        "**Q6.What is a complex number in mathematics, and how is it represented in Python?**\n",
        "\n",
        "\n"
      ],
      "metadata": {
        "id": "zqlUEUARIwar"
      }
    },
    {
      "cell_type": "markdown",
      "source": [
        "**Answer:** A complex number is a number of the form a + bi, where a and b are real numbers, and i is the imaginary unit, defined as the square root of -1. The real part of the complex number is represented by a, and the imaginary part is represented by b. The imaginary unit i satisfies the property i^2 = -1.In Python, complex numbers are represented using the complex data type."
      ],
      "metadata": {
        "id": "omCRY8TzA1yM"
      }
    },
    {
      "cell_type": "code",
      "source": [
        "z1 = complex(2, 3)\n",
        "z2 = 4 + 5j\n",
        "real_part = z1.real\n",
        "imaginary_part = z1.imag\n",
        "z3 = z1 + z2\n",
        "z4 = z1 - z2\n",
        "z5 = z1 * z2\n",
        "z6 = z1 / z2\n",
        "\n",
        "print(z3)\n",
        "print(z4)\n",
        "print(z5)\n",
        "print(z6)\n"
      ],
      "metadata": {
        "colab": {
          "base_uri": "https://localhost:8080/"
        },
        "id": "9S18t5RRBJy0",
        "outputId": "eac84a81-0a60-4f02-80a6-95950a1fc257"
      },
      "execution_count": 3,
      "outputs": [
        {
          "output_type": "stream",
          "name": "stdout",
          "text": [
            "(6+8j)\n",
            "(-2-2j)\n",
            "(-7+22j)\n",
            "(0.5609756097560976+0.0487804878048781j)\n"
          ]
        }
      ]
    },
    {
      "cell_type": "markdown",
      "source": [
        "**Q7. What is the correct way to declare a variable named age and assign the value 25 to it?**"
      ],
      "metadata": {
        "id": "V24kAz46I2TZ"
      }
    },
    {
      "cell_type": "markdown",
      "source": [
        "**Answer**"
      ],
      "metadata": {
        "id": "1u6Pr_ZwBljz"
      }
    },
    {
      "cell_type": "code",
      "source": [
        "age=25"
      ],
      "metadata": {
        "id": "W_dgBsvABda1"
      },
      "execution_count": null,
      "outputs": []
    },
    {
      "cell_type": "markdown",
      "source": [
        "**Q8. Declare a variable named price and assign the value 9.99 to it. What data type does this variable\n",
        "belong to?**"
      ],
      "metadata": {
        "id": "BZgAtKE80fdA"
      }
    },
    {
      "cell_type": "markdown",
      "source": [
        "**Answer**"
      ],
      "metadata": {
        "id": "3GUjdJPKBuqV"
      }
    },
    {
      "cell_type": "code",
      "source": [
        "price=9.99\n",
        "print(type(price))"
      ],
      "metadata": {
        "colab": {
          "base_uri": "https://localhost:8080/"
        },
        "id": "oRDeRq3zBxLn",
        "outputId": "7b6e3d94-8eec-4d44-c27c-7cc495163ba2"
      },
      "execution_count": 4,
      "outputs": [
        {
          "output_type": "stream",
          "name": "stdout",
          "text": [
            "<class 'float'>\n"
          ]
        }
      ]
    },
    {
      "cell_type": "markdown",
      "source": [
        "**Q9. Create a variable named name and assign your full name to it as a string. How would you print the\n",
        "value of this variable?**"
      ],
      "metadata": {
        "id": "1SXJm7t0eQyu"
      }
    },
    {
      "cell_type": "markdown",
      "source": [
        "**Answer:**"
      ],
      "metadata": {
        "id": "bTPOoZAuCCxO"
      }
    },
    {
      "cell_type": "code",
      "source": [
        "name=\"Payal Rajput\"\n",
        "print(name)"
      ],
      "metadata": {
        "colab": {
          "base_uri": "https://localhost:8080/"
        },
        "id": "B3tfK_bwCI29",
        "outputId": "e528f807-6845-4e32-88f1-225854d674e6"
      },
      "execution_count": 5,
      "outputs": [
        {
          "output_type": "stream",
          "name": "stdout",
          "text": [
            "Payal Rajput\n"
          ]
        }
      ]
    },
    {
      "cell_type": "markdown",
      "source": [
        "**Q10. Given the string \"Hello, World!\", extract the substring \"World\".**"
      ],
      "metadata": {
        "id": "1m9Ik59reezF"
      }
    },
    {
      "cell_type": "markdown",
      "source": [
        "**Answer:**"
      ],
      "metadata": {
        "id": "m_25KDYpCGKs"
      }
    },
    {
      "cell_type": "code",
      "source": [
        "string=\"Hello, World!\"\n",
        "substring = string[7:12]\n",
        "print(substring)"
      ],
      "metadata": {
        "colab": {
          "base_uri": "https://localhost:8080/"
        },
        "id": "GqMdGbJbCT-J",
        "outputId": "735d2b58-afce-4bce-8e26-c5a4422c49b4"
      },
      "execution_count": 6,
      "outputs": [
        {
          "output_type": "stream",
          "name": "stdout",
          "text": [
            "World\n"
          ]
        }
      ]
    },
    {
      "cell_type": "markdown",
      "source": [
        "**Q11. Create a variable named \"is_student\" and assign it a boolean value indicating whether you are\n",
        "currently a student or not.**"
      ],
      "metadata": {
        "id": "OANxX4wAei5W"
      }
    },
    {
      "cell_type": "markdown",
      "source": [
        "**Answer:**"
      ],
      "metadata": {
        "id": "PjdcpuEiCHH8"
      }
    },
    {
      "cell_type": "code",
      "source": [
        "is_student=True"
      ],
      "metadata": {
        "id": "O07VdFbiCnIc"
      },
      "execution_count": null,
      "outputs": []
    }
  ]
}